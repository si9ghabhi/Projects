{
 "cells": [
  {
   "cell_type": "code",
   "execution_count": 22,
   "id": "65a74d06-4751-4d85-99a6-a8690695f4bd",
   "metadata": {},
   "outputs": [
    {
     "name": "stdout",
     "output_type": "stream",
     "text": [
      "Welcome to tic tac toe\n",
      "0 | 1 | 2 \n",
      "--|---|---\n",
      "3 | 4 | 5 \n",
      "--|---|---\n",
      "6 | 7 | 8 \n",
      "X's chance\n"
     ]
    },
    {
     "name": "stdin",
     "output_type": "stream",
     "text": [
      "please enter a value:  11\n"
     ]
    },
    {
     "ename": "IndexError",
     "evalue": "list assignment index out of range",
     "output_type": "error",
     "traceback": [
      "\u001b[1;31m---------------------------------------------------------------------------\u001b[0m",
      "\u001b[1;31mIndexError\u001b[0m                                Traceback (most recent call last)",
      "Cell \u001b[1;32mIn[22], line 40\u001b[0m\n\u001b[0;32m     38\u001b[0m     \u001b[38;5;28mprint\u001b[39m(\u001b[38;5;124m\"\u001b[39m\u001b[38;5;124mX\u001b[39m\u001b[38;5;124m'\u001b[39m\u001b[38;5;124ms chance\u001b[39m\u001b[38;5;124m\"\u001b[39m)\n\u001b[0;32m     39\u001b[0m     value\u001b[38;5;241m=\u001b[39m \u001b[38;5;28mint\u001b[39m(\u001b[38;5;28minput\u001b[39m(\u001b[38;5;124m'\u001b[39m\u001b[38;5;124mplease enter a value: \u001b[39m\u001b[38;5;124m'\u001b[39m))\n\u001b[1;32m---> 40\u001b[0m     xState[value] \u001b[38;5;241m=\u001b[39m \u001b[38;5;241m1\u001b[39m\n\u001b[0;32m     41\u001b[0m \u001b[38;5;28;01melse\u001b[39;00m:\n\u001b[0;32m     42\u001b[0m     \u001b[38;5;28mprint\u001b[39m(\u001b[38;5;124m\"\u001b[39m\u001b[38;5;124mO\u001b[39m\u001b[38;5;124m'\u001b[39m\u001b[38;5;124ms chance\u001b[39m\u001b[38;5;124m\"\u001b[39m)\n",
      "\u001b[1;31mIndexError\u001b[0m: list assignment index out of range"
     ]
    }
   ],
   "source": [
    "def sum(a,b,c):\n",
    "    return a+b+c\n",
    "\n",
    "def printBoard(xState, zstate):\n",
    "    zero = 'X' if xState[0] else ('O' if zState[0] else 0)\n",
    "    one = 'X' if xState[1] else ('O' if zState[1] else 1)\n",
    "    two = 'X' if xState[2] else ('O' if zState[2] else 2)\n",
    "    three = 'X' if xState[3] else ('O' if zState[3] else 3)\n",
    "    four = 'X' if xState[4] else ('O' if zState[4] else 4)\n",
    "    five = 'X' if xState[5] else ('O' if zState[5] else 5)\n",
    "    six = 'X' if xState[6] else ('O' if zState[6] else 6)\n",
    "    seven = 'X' if xState[7] else ('O' if zState[7] else 7)\n",
    "    eight = 'X' if xState[8] else ('O' if zState[8] else 8)\n",
    "    print(f\"{zero} | {one} | {two} \")\n",
    "    print(f'--|---|---')\n",
    "    print(f'{three} | {four} | {five} ')\n",
    "    print(f'--|---|---')\n",
    "    print(f'{six} | {seven} | {eight} ')\n",
    "\n",
    "def checkWin(xState,zstate):\n",
    "    wins= [[0,1,2], [3,4,5],[6,7,8],[0,3,6], [0,3,6], [1,4,7], [2,5,8], [0,4,8], [2,4,6]]\n",
    "    for win in wins:\n",
    "        if(sum(xState[win[0]], xState[win[1]], xState[win[2]])==3):\n",
    "            print('X wins')\n",
    "            return 1\n",
    "        if(sum(zState[win[0]], zState[win[1]], zState[win[2]])==3):\n",
    "            print('O wins')\n",
    "            return 0\n",
    "    return -1\n",
    "if __name__ == '__main__':\n",
    "    xState = [0,0,0,0,0,0,0,0,0]\n",
    "    zState = [0,0,0,0,0,0,0,0,0]\n",
    "    turn = 1 #1 for x and 0 for O\n",
    "    print('Welcome to tic tac toe')\n",
    "    while(True):\n",
    "        printBoard(xState, zState)\n",
    "        if(turn==1):\n",
    "            print(\"X's chance\")\n",
    "            value= int(input('please enter a value: '))\n",
    "            xState[value] = 1\n",
    "        else:\n",
    "            print(\"O's chance\")\n",
    "            value= int(input('please enter a value: '))\n",
    "            zState[value] = 1\n",
    "        cwin = checkWin(xState, zState)\n",
    "        if(cwin!= -1):\n",
    "            break\n",
    "        turn= 1-turn"
   ]
  },
  {
   "cell_type": "code",
   "execution_count": null,
   "id": "1c36a1bc-d678-4a00-9580-f0ae797cbdf9",
   "metadata": {},
   "outputs": [],
   "source": []
  },
  {
   "cell_type": "code",
   "execution_count": null,
   "id": "e5bff4af-ec48-4a7d-b572-a444aea860ce",
   "metadata": {},
   "outputs": [],
   "source": []
  },
  {
   "cell_type": "code",
   "execution_count": null,
   "id": "bb607d1b-b94b-4910-af7a-9aa51aaab692",
   "metadata": {},
   "outputs": [],
   "source": []
  },
  {
   "cell_type": "code",
   "execution_count": null,
   "id": "15c3ebc1-7851-4dfe-8776-5855c8aeac76",
   "metadata": {},
   "outputs": [],
   "source": []
  },
  {
   "cell_type": "code",
   "execution_count": null,
   "id": "bd1f88cf-6511-4c33-abf3-476c512a2937",
   "metadata": {},
   "outputs": [],
   "source": []
  },
  {
   "cell_type": "code",
   "execution_count": null,
   "id": "428b745b-e910-4a04-8094-3dd16979c373",
   "metadata": {},
   "outputs": [],
   "source": []
  },
  {
   "cell_type": "code",
   "execution_count": null,
   "id": "34ef10b8-7ed3-4d73-a306-9198b96c4e60",
   "metadata": {},
   "outputs": [],
   "source": []
  },
  {
   "cell_type": "code",
   "execution_count": null,
   "id": "521d89a4-f052-4d81-85d1-8921dffb2746",
   "metadata": {},
   "outputs": [],
   "source": []
  },
  {
   "cell_type": "code",
   "execution_count": null,
   "id": "e32b4548-468b-4886-a576-b579e647ec5b",
   "metadata": {},
   "outputs": [],
   "source": []
  },
  {
   "cell_type": "code",
   "execution_count": null,
   "id": "3956bf12-3e80-487c-8497-76ea1d1eada2",
   "metadata": {},
   "outputs": [],
   "source": []
  },
  {
   "cell_type": "code",
   "execution_count": null,
   "id": "9a8c4712-e9c4-4ca9-bebb-6aeef829438b",
   "metadata": {},
   "outputs": [],
   "source": []
  },
  {
   "cell_type": "code",
   "execution_count": null,
   "id": "8d7bbbe6-2a4a-461c-ad6d-89b9909fccb4",
   "metadata": {},
   "outputs": [],
   "source": []
  },
  {
   "cell_type": "code",
   "execution_count": null,
   "id": "9585738f-0c5f-44e6-bd8a-a2825fb47d9c",
   "metadata": {},
   "outputs": [],
   "source": []
  },
  {
   "cell_type": "code",
   "execution_count": null,
   "id": "7d7f8e79-a8f4-4bc1-9c88-381bbdc1f5b3",
   "metadata": {},
   "outputs": [],
   "source": []
  },
  {
   "cell_type": "code",
   "execution_count": null,
   "id": "3f18de0e-a4bb-41f0-968f-9d15df5cbc4a",
   "metadata": {},
   "outputs": [],
   "source": []
  },
  {
   "cell_type": "code",
   "execution_count": null,
   "id": "6c359bcb-20f6-4752-b333-eed6d959bbda",
   "metadata": {},
   "outputs": [],
   "source": []
  },
  {
   "cell_type": "code",
   "execution_count": null,
   "id": "d895b5fb-d40a-475a-a5fa-c99cf6b9c5c0",
   "metadata": {},
   "outputs": [],
   "source": []
  },
  {
   "cell_type": "code",
   "execution_count": null,
   "id": "3f7a0939-6250-48ee-bd4b-f45f1642844e",
   "metadata": {},
   "outputs": [],
   "source": []
  }
 ],
 "metadata": {
  "kernelspec": {
   "display_name": "Python 3 (ipykernel)",
   "language": "python",
   "name": "python3"
  },
  "language_info": {
   "codemirror_mode": {
    "name": "ipython",
    "version": 3
   },
   "file_extension": ".py",
   "mimetype": "text/x-python",
   "name": "python",
   "nbconvert_exporter": "python",
   "pygments_lexer": "ipython3",
   "version": "3.11.7"
  }
 },
 "nbformat": 4,
 "nbformat_minor": 5
}
